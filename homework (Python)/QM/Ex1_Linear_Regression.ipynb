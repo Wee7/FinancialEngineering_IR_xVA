{
  "nbformat": 4,
  "nbformat_minor": 0,
  "metadata": {
    "colab": {
      "name": "Ex1_Linear_Regression.ipynb",
      "provenance": [],
      "collapsed_sections": [],
      "authorship_tag": "ABX9TyPacvhE52VMa+zNbgYBPDfu",
      "include_colab_link": true
    },
    "kernelspec": {
      "name": "python3",
      "display_name": "Python 3"
    },
    "language_info": {
      "name": "python"
    }
  },
  "cells": [
    {
      "cell_type": "markdown",
      "metadata": {
        "id": "view-in-github",
        "colab_type": "text"
      },
      "source": [
        "<a href=\"https://colab.research.google.com/github/Wee7/FinancialEngineering_IR_xVA/blob/main/homework%20(Python)/QM/Ex1_Linear_Regression.ipynb\" target=\"_parent\"><img src=\"https://colab.research.google.com/assets/colab-badge.svg\" alt=\"Open In Colab\"/></a>"
      ]
    },
    {
      "cell_type": "code",
      "metadata": {
        "id": "yw1_IYnOg2a8"
      },
      "source": [
        "import numpy as np\n",
        "import matplotlib.pyplot as plt\n",
        "%matplotlib inline"
      ],
      "execution_count": null,
      "outputs": []
    },
    {
      "cell_type": "code",
      "metadata": {
        "colab": {
          "base_uri": "https://localhost:8080/"
        },
        "id": "YaSuxXYFmy9T",
        "outputId": "b0be53f4-c9d7-4084-885d-a350299b57d6"
      },
      "source": [
        "# data = np.loadtxt(\"ex1data1.txt\", delimiter=',')\n",
        "!shopt -s extglob\n",
        "!wget \"https://github.com/qinhanmin2014/machine-learning-Andrew-Ng/blob/168916388b2af4b872099398864544a39c69f5b7/homework%20(Python)/ex1/ex1data1.txt\""
      ],
      "execution_count": null,
      "outputs": [
        {
          "output_type": "stream",
          "name": "stdout",
          "text": [
            "--2021-11-11 13:58:23--  https://github.com/qinhanmin2014/machine-learning-Andrew-Ng/blob/168916388b2af4b872099398864544a39c69f5b7/homework%20(Python)/ex1/ex1data1.txt\n",
            "Resolving github.com (github.com)... 140.82.114.3\n",
            "Connecting to github.com (github.com)|140.82.114.3|:443... connected.\n",
            "HTTP request sent, awaiting response... 200 OK\n",
            "Length: unspecified [text/html]\n",
            "Saving to: ‘ex1data1.txt.1’\n",
            "\n",
            "ex1data1.txt.1          [ <=>                ] 159.28K  --.-KB/s    in 0.08s   \n",
            "\n",
            "2021-11-11 13:58:24 (2.01 MB/s) - ‘ex1data1.txt.1’ saved [163107]\n",
            "\n"
          ]
        }
      ]
    },
    {
      "cell_type": "code",
      "metadata": {
        "colab": {
          "base_uri": "https://localhost:8080/"
        },
        "id": "939CZZdppfiU",
        "outputId": "11db62d7-457f-498f-aa14-fe7bdced5e41"
      },
      "source": [
        "!ls"
      ],
      "execution_count": null,
      "outputs": [
        {
          "output_type": "stream",
          "name": "stdout",
          "text": [
            "ex1data1.txt  sample_data\n"
          ]
        }
      ]
    },
    {
      "cell_type": "code",
      "metadata": {
        "id": "hiAX2AhFpl2J"
      },
      "source": [
        "# with open(\"ex1data1.txt\", \"r\") as file1:\n",
        "#     FileContent = file1.read()\n",
        "#     print(FileContent)"
      ],
      "execution_count": null,
      "outputs": []
    },
    {
      "cell_type": "code",
      "metadata": {
        "id": "ltNTcK_KqHaQ"
      },
      "source": [
        "ex1data1 = \"\"\"\n",
        "6.1101,17.592\n",
        "5.5277,9.1302\n",
        "8.5186,13.662\n",
        "7.0032,11.854\n",
        "5.8598,6.8233\n",
        "8.3829,11.886\n",
        "7.4764,4.3483\n",
        "8.5781,12\n",
        "6.4862,6.5987\n",
        "5.0546,3.8166\n",
        "5.7107,3.2522\n",
        "14.164,15.505\n",
        "5.734,3.1551\n",
        "8.4084,7.2258\n",
        "5.6407,0.71618\n",
        "5.3794,3.5129\n",
        "6.3654,5.3048\n",
        "5.1301,0.56077\n",
        "6.4296,3.6518\n",
        "7.0708,5.3893\n",
        "6.1891,3.1386\n",
        "20.27,21.767\n",
        "5.4901,4.263\n",
        "6.3261,5.1875\n",
        "5.5649,3.0825\n",
        "18.945,22.638\n",
        "12.828,13.501\n",
        "10.957,7.0467\n",
        "13.176,14.692\n",
        "22.203,24.147\n",
        "5.2524,-1.22\n",
        "6.5894,5.9966\n",
        "9.2482,12.134\n",
        "5.8918,1.8495\n",
        "8.2111,6.5426\n",
        "7.9334,4.5623\n",
        "8.0959,4.1164\n",
        "5.6063,3.3928\n",
        "12.836,10.117\n",
        "6.3534,5.4974\n",
        "5.4069,0.55657\n",
        "6.8825,3.9115\n",
        "11.708,5.3854\n",
        "5.7737,2.4406\n",
        "7.8247,6.7318\n",
        "7.0931,1.0463\n",
        "5.0702,5.1337\n",
        "5.8014,1.844\n",
        "11.7,8.0043\n",
        "5.5416,1.0179\n",
        "7.5402,6.7504\n",
        "5.3077,1.8396\n",
        "7.4239,4.2885\n",
        "7.6031,4.9981\n",
        "6.3328,1.4233\n",
        "6.3589,-1.4211\n",
        "6.2742,2.4756\n",
        "5.6397,4.6042\n",
        "9.3102,3.9624\n",
        "9.4536,5.4141\n",
        "8.8254,5.1694\n",
        "5.1793,-0.74279\n",
        "21.279,17.929\n",
        "14.908,12.054\n",
        "18.959,17.054\n",
        "7.2182,4.8852\n",
        "8.2951,5.7442\n",
        "10.236,7.7754\n",
        "5.4994,1.0173\n",
        "20.341,20.992\n",
        "10.136,6.6799\n",
        "7.3345,4.0259\n",
        "6.0062,1.2784\n",
        "7.2259,3.3411\n",
        "5.0269,-2.6807\n",
        "6.5479,0.29678\n",
        "7.5386,3.8845\n",
        "5.0365,5.7014\n",
        "10.274,6.7526\n",
        "5.1077,2.0576\n",
        "5.7292,0.47953\n",
        "5.1884,0.20421\n",
        "6.3557,0.67861\n",
        "9.7687,7.5435\n",
        "6.5159,5.3436\n",
        "8.5172,4.2415\n",
        "9.1802,6.7981\n",
        "6.002,0.92695\n",
        "5.5204,0.152\n",
        "5.0594,2.8214\n",
        "5.7077,1.8451\n",
        "7.6366,4.2959\n",
        "5.8707,7.2029\n",
        "5.3054,1.9869\n",
        "8.2934,0.14454\n",
        "13.394,9.0551\n",
        "5.4369,0.61705\n",
        "\"\"\""
      ],
      "execution_count": null,
      "outputs": []
    },
    {
      "cell_type": "markdown",
      "metadata": {
        "id": "Bf8IKKRic96e"
      },
      "source": [
        "# Linear Regression with One Variable\n",
        "\n",
        "Predict profit for a food truck.\n",
        "\n",
        "Data: profits and populations from the cities."
      ]
    },
    {
      "cell_type": "code",
      "metadata": {
        "id": "LZ1nNqQYXwd6"
      },
      "source": [
        "ex1data1_float_list = [[float(j[0]), float(j[1])] for j in [i.split(\",\") for i in ex1data1.split(\"\\n\")][1:-1]]"
      ],
      "execution_count": null,
      "outputs": []
    },
    {
      "cell_type": "code",
      "metadata": {
        "colab": {
          "base_uri": "https://localhost:8080/"
        },
        "id": "5pyCib3kUmS6",
        "outputId": "c2f1644d-d6b8-45a0-b607-aceccbeafa01"
      },
      "source": [
        "data = np.array(ex1data1_float_list)\n",
        "data[:5]"
      ],
      "execution_count": null,
      "outputs": [
        {
          "output_type": "execute_result",
          "data": {
            "text/plain": [
              "array([[ 6.1101, 17.592 ],\n",
              "       [ 5.5277,  9.1302],\n",
              "       [ 8.5186, 13.662 ],\n",
              "       [ 7.0032, 11.854 ],\n",
              "       [ 5.8598,  6.8233]])"
            ]
          },
          "metadata": {},
          "execution_count": 68
        }
      ]
    },
    {
      "cell_type": "code",
      "metadata": {
        "colab": {
          "base_uri": "https://localhost:8080/"
        },
        "id": "0Rno3bacSS7X",
        "outputId": "d6071a95-7ead-49e0-da8e-24b124ca693f"
      },
      "source": [
        "X = data[:, 0][:, np.newaxis]   # --> why? -> For later np.ones appending\n",
        "y = data[:, 1]\n",
        "m = len(y)   # number of training examples\n",
        "\n",
        "print(X.shape, y.shape, m)"
      ],
      "execution_count": 98,
      "outputs": [
        {
          "output_type": "stream",
          "name": "stdout",
          "text": [
            "(97, 1) (97,) 97\n"
          ]
        }
      ]
    },
    {
      "cell_type": "markdown",
      "metadata": {
        "id": "k-yXfjVRdC7F"
      },
      "source": [
        "## 2.1 Plotting the Data"
      ]
    },
    {
      "cell_type": "code",
      "metadata": {
        "colab": {
          "base_uri": "https://localhost:8080/",
          "height": 280
        },
        "id": "KgbxJuViTCJc",
        "outputId": "42567a96-2e51-49b9-c633-6b42edf144ab"
      },
      "source": [
        "plt.figure()\n",
        "plt.scatter(X[:, 0], y, marker='x', c='r')\n",
        "plt.xlabel(\"Population of City in 10,000s\")\n",
        "plt.ylabel(\"Profit in $10,000s\")\n",
        "plt.show()"
      ],
      "execution_count": 93,
      "outputs": [
        {
          "output_type": "display_data",
          "data": {
            "image/png": "[encoded data removed]",
            "text/plain": [
              "<Figure size 432x288 with 1 Axes>"
            ]
          },
          "metadata": {
            "needs_background": "light"
          }
        }
      ]
    },
    {
      "cell_type": "markdown",
      "metadata": {
        "id": "25fiqPXnfp46"
      },
      "source": [
        "## 2.2 Gradient Descent\n",
        "\n",
        "### 2.2.1 Update Equations\n",
        "\n",
        "Objective Function: minimize $J(\\theta) = \\frac{1}{2m} \\displaystyle\\sum_{i=1}^{m} \\left( h_\\theta(x^{(i)}) - y^{(i)} \\right)^2$\n",
        "\n",
        "where $ h_\\theta(x^{(i)}) = \\theta^T x = \\theta_0 + \\theta_1 x^{(i)}_1$\n",
        "\n",
        "Batch Gradient Descent update: $\\theta_j = \\theta_j - \\alpha \\frac{\\partial}{\\partial\\theta_j}J(\\theta)$ for $j=1, 2$\n",
        "\n",
        "$\\theta_0 = \\theta_0 - \\alpha \\frac{1}{m} \\displaystyle\\sum_{i=1}^{m} \\left( h_\\theta(x^{(i)}) - y^{(i)} \\right)$\n",
        "\n",
        "$\\theta_1 = \\theta_1 - \\alpha \\frac{1}{m} \\displaystyle\\sum_{i=1}^{m} \\left( h_\\theta(x^{(i)}) - y^{(i)} \\right) x^{(i)}$\n",
        "\n"
      ]
    },
    {
      "cell_type": "markdown",
      "metadata": {
        "id": "GiQU6Ij06WMi"
      },
      "source": [
        "### 2.2.2 Implementation"
      ]
    },
    {
      "cell_type": "code",
      "metadata": {
        "id": "w8xnh6IQXbxO",
        "colab": {
          "base_uri": "https://localhost:8080/"
        },
        "outputId": "831b1541-6c51-46a3-973e-b5ab42f7737e"
      },
      "source": [
        "X_train = np.append(np.ones(m)[:, np.newaxis], X, axis=1)\n",
        "theta = np.zeros((2, 1))\n",
        "iterations = 1500\n",
        "alpha = 0.01\n",
        "\n",
        "print(X_train.shape, theta.shape)"
      ],
      "execution_count": 181,
      "outputs": [
        {
          "output_type": "stream",
          "name": "stdout",
          "text": [
            "(97, 2) (2, 1)\n"
          ]
        }
      ]
    },
    {
      "cell_type": "markdown",
      "metadata": {
        "id": "3HQnEZ2G6Zp9"
      },
      "source": [
        "### 2.2.3 Computing the cost $J(\\theta)$"
      ]
    },
    {
      "cell_type": "code",
      "metadata": {
        "id": "WRdHkGdR3JyK"
      },
      "source": [
        "def compute_cost(X, y, theta, m):\n",
        "  h = np.dot(X_train, theta)\n",
        "  J = 1 / (2*m) * np.sum((h[:, 0] - y)**2)\n",
        "  return J"
      ],
      "execution_count": 160,
      "outputs": []
    },
    {
      "cell_type": "code",
      "metadata": {
        "colab": {
          "base_uri": "https://localhost:8080/"
        },
        "id": "rwfF2GG14QuV",
        "outputId": "b13f0367-366e-4b6c-97ca-1819a0bf960e"
      },
      "source": [
        "compute_cost(X_train, y, theta, m)"
      ],
      "execution_count": 161,
      "outputs": [
        {
          "output_type": "execute_result",
          "data": {
            "text/plain": [
              "32.072733877455676"
            ]
          },
          "metadata": {},
          "execution_count": 161
        }
      ]
    },
    {
      "cell_type": "markdown",
      "metadata": {
        "id": "VGiNiGoF-VaB"
      },
      "source": [
        "### 2.2.4 Gradient Descent"
      ]
    },
    {
      "cell_type": "code",
      "metadata": {
        "id": "XpkFvACp7bQ_"
      },
      "source": [
        "def gradient_descent(X_train, y, theta, alpha, m):\n",
        "  h = np.dot(X_train, theta)\n",
        "  theta_0 = theta[0] - alpha * 1 / m * np.sum((h[:, 0] - y))\n",
        "  theta_1 = theta[1] - alpha * 1 / m * np.dot((h[:, 0] - y).T, X_train[:, 1])  # same as np.sum((h[:, 0] - y) * X_train[:, 1])\n",
        "  theta = np.array((theta_0, theta_1))\n",
        "  J = compute_cost(X_train, y, theta, m)\n",
        "  return theta, J"
      ],
      "execution_count": 177,
      "outputs": []
    },
    {
      "cell_type": "code",
      "metadata": {
        "id": "xUGn639Z88L8"
      },
      "source": [
        "J_all = []\n",
        "for i in range(iterations):\n",
        "  theta, J = gradient_descent(X_train, y, theta, alpha, m)\n",
        "  J_all.append(J)\n",
        "  "
      ],
      "execution_count": 182,
      "outputs": []
    },
    {
      "cell_type": "markdown",
      "metadata": {
        "id": "iwR9yP3_KRpO"
      },
      "source": [
        "**Comment**: Comparing with the answer: 1. theta could be updated parallel 2. iteration should be inside gradient_descent()\n",
        "\n",
        "\n",
        "```\n",
        "# This is formatted as code\n",
        "\n",
        "def gradientDescent(X, y, theta, alpha, num_iters):\n",
        "    J_history = np.zeros(num_iters)\n",
        "    for i in range(num_iters):\n",
        "        theta = (theta - (alpha / X.shape[0])\n",
        "                 * np.dot(X.T, (np.dot(X, theta) - y)))   \n",
        "        J_history[i] = computeCost(X, y, theta)\n",
        "    return theta, J_history\n",
        "```\n",
        "\n"
      ]
    },
    {
      "cell_type": "code",
      "metadata": {
        "colab": {
          "base_uri": "https://localhost:8080/"
        },
        "id": "bUeNI9FmAAXT",
        "outputId": "03684f45-b66c-421d-fbf0-d3494a6f116f"
      },
      "source": [
        "print(\"theta: \", theta, \"\\n J_all in the end: \", J_all[-20:])"
      ],
      "execution_count": 190,
      "outputs": [
        {
          "output_type": "stream",
          "name": "stdout",
          "text": [
            "theta:  [[-3.63029144]\n",
            " [ 1.16636235]] \n",
            " J_all in the end:  [4.483843632870647, 4.483818879397901, 4.4837942150857355, 4.483769639613, 4.483745152659696, 4.483720753906987, 4.483696443037178, 4.483672219733719, 4.483648083681199, 4.483624034565349, 4.483600072073026, 4.483576195892218, 4.483552405712033, 4.483528701222707, 4.483505082115583, 4.48348154808312, 4.483458098818883, 4.483434734017543, 4.483411453374869, 4.483388256587725]\n"
          ]
        }
      ]
    },
    {
      "cell_type": "code",
      "metadata": {
        "colab": {
          "base_uri": "https://localhost:8080/"
        },
        "id": "HDp4bwk8IGtM",
        "outputId": "6b242a6c-ac7e-40ac-9750-73fa25725b22"
      },
      "source": [
        "predict1 = np.array([1, 3.5]).dot(theta)\n",
        "predict2 = np.array([1, 7]).dot(theta)\n",
        "print(predict1, predict2)"
      ],
      "execution_count": 195,
      "outputs": [
        {
          "output_type": "stream",
          "name": "stdout",
          "text": [
            "[0.45197679] [4.53424501]\n"
          ]
        }
      ]
    },
    {
      "cell_type": "code",
      "metadata": {
        "colab": {
          "base_uri": "https://localhost:8080/",
          "height": 280
        },
        "id": "fki42x4fCzLP",
        "outputId": "5b59d291-a94d-46fb-f8be-3a46d74917aa"
      },
      "source": [
        "plt.figure()\n",
        "plt.scatter(X[:, 0], y, marker='x', c='r')\n",
        "X_plot = np.linspace(5, 23, 100)\n",
        "plt.plot(X_plot, theta[0] + X_plot * theta[1],\n",
        "         color=\"b\", linewidth=2)\n",
        "plt.xlabel(\"Population of City in 10,000s\")\n",
        "plt.ylabel(\"Profit in $10,000s\")\n",
        "plt.xlim(5, 23)\n",
        "plt.show()"
      ],
      "execution_count": 197,
      "outputs": [
        {
          "output_type": "display_data",
          "data": {
            "image/png": "[encoded data removed]",
            "text/plain": [
              "<Figure size 432x288 with 1 Axes>"
            ]
          },
          "metadata": {
            "needs_background": "light"
          }
        }
      ]
    },
    {
      "cell_type": "code",
      "metadata": {
        "colab": {
          "base_uri": "https://localhost:8080/",
          "height": 279
        },
        "id": "IbGOQW78B81Q",
        "outputId": "9a1cbdfb-baa3-4a0f-d0a5-3e910f776f6c"
      },
      "source": [
        "plt.figure()\n",
        "plt.plot(np.arange(iterations), J_all)\n",
        "plt.xlabel('Iterations')\n",
        "plt.ylabel('Cost')\n",
        "plt.show()"
      ],
      "execution_count": 199,
      "outputs": [
        {
          "output_type": "display_data",
          "data": {
            "image/png": "[encoded data removed]",
            "text/plain": [
              "<Figure size 432x288 with 1 Axes>"
            ]
          },
          "metadata": {
            "needs_background": "light"
          }
        }
      ]
    },
    {
      "cell_type": "code",
      "metadata": {
        "id": "AeBkPmvKCEkz"
      },
      "source": [
        ""
      ],
      "execution_count": 162,
      "outputs": []
    },
    {
      "cell_type": "code",
      "metadata": {
        "id": "E2KAw1uaCesZ"
      },
      "source": [
        ""
      ],
      "execution_count": null,
      "outputs": []
    }
  ]
}